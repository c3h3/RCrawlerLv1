{
 "cells": [
  {
   "cell_type": "code",
   "execution_count": 2,
   "metadata": {
    "collapsed": false
   },
   "outputs": [],
   "source": [
    "library(RSQLite)\n",
    "library(dplyr)"
   ]
  },
  {
   "cell_type": "code",
   "execution_count": 3,
   "metadata": {
    "collapsed": true
   },
   "outputs": [],
   "source": [
    "my_fb <- src_sqlite(\"/tmp/RCrawler/my_fb.db\")"
   ]
  },
  {
   "cell_type": "code",
   "execution_count": 4,
   "metadata": {
    "collapsed": false
   },
   "outputs": [],
   "source": [
    "res = tbl(my_fb, sql(\"SELECT * FROM my_fb_table WHERE message LIKE '%曹錦輝%'\"))"
   ]
  },
  {
   "cell_type": "code",
   "execution_count": 5,
   "metadata": {
    "collapsed": false
   },
   "outputs": [
    {
     "data": {
      "text/html": [
       "<table>\n",
       "<thead><tr><th></th><th scope=col>message</th><th scope=col>id</th><th scope=col>date</th><th scope=col>time</th></tr></thead>\n",
       "<tbody>\n",
       "\t<tr><th scope=row>1</th><td>曹錦輝下放3A</td><td>729354070521135</td><td>20150726</td><td>034011</td></tr>\n",
       "\t<tr><th scope=row>2</th><td>嗯哼~BJ4\n",
       "\n",
       "#曹錦輝</td><td>729317440524798</td><td>20150726</td><td>025000</td></tr>\n",
       "</tbody>\n",
       "</table>\n"
      ],
      "text/latex": [
       "\\begin{tabular}{r|llll}\n",
       "  & message & id & date & time\\\\\n",
       "\\hline\n",
       "\t1 & 曹錦輝下放3A & 729354070521135 & 20150726 & 034011\\\\\n",
       "\t2 & 嗯哼~BJ4\n",
       "\n",
       "#曹錦輝 & 729317440524798 & 20150726 & 025000\\\\\n",
       "\\end{tabular}\n"
      ],
      "text/plain": [
       "Source: local data frame [2 x 4]\n",
       "\n",
       "              message              id     date   time\n",
       "1        曹錦輝下放3A 729354070521135 20150726 034011\n",
       "2 嗯哼~BJ4\\n\\n#曹錦輝 729317440524798 20150726 025000"
      ]
     },
     "execution_count": 5,
     "metadata": {},
     "output_type": "execute_result"
    }
   ],
   "source": [
    "collect(res)"
   ]
  },
  {
   "cell_type": "code",
   "execution_count": 6,
   "metadata": {
    "collapsed": true
   },
   "outputs": [],
   "source": [
    "res = tbl(my_fb, sql(\"SELECT * FROM my_fb_table WHERE time LIKE '02%'\"))"
   ]
  },
  {
   "cell_type": "code",
   "execution_count": 7,
   "metadata": {
    "collapsed": false
   },
   "outputs": [
    {
     "data": {
      "text/html": [
       "<table>\n",
       "<thead><tr><th></th><th scope=col>message</th><th scope=col>id</th><th scope=col>date</th><th scope=col>time</th></tr></thead>\n",
       "<tbody>\n",
       "\t<tr><th scope=row>1</th><td>嗯哼~BJ4\n",
       "\n",
       "#曹錦輝</td><td>729317440524798</td><td>20150726</td><td>025000</td></tr>\n",
       "\t<tr><th scope=row>2</th><td>#最新</td><td>729331047190104</td><td>20150726</td><td>024401</td></tr>\n",
       "</tbody>\n",
       "</table>\n"
      ],
      "text/latex": [
       "\\begin{tabular}{r|llll}\n",
       "  & message & id & date & time\\\\\n",
       "\\hline\n",
       "\t1 & 嗯哼~BJ4\n",
       "\n",
       "#曹錦輝 & 729317440524798 & 20150726 & 025000\\\\\n",
       "\t2 & #最新 & 729331047190104 & 20150726 & 024401\\\\\n",
       "\\end{tabular}\n"
      ],
      "text/plain": [
       "Source: local data frame [2 x 4]\n",
       "\n",
       "              message              id     date   time\n",
       "1 嗯哼~BJ4\\n\\n#曹錦輝 729317440524798 20150726 025000\n",
       "2               #最新 729331047190104 20150726 024401"
      ]
     },
     "execution_count": 7,
     "metadata": {},
     "output_type": "execute_result"
    }
   ],
   "source": [
    "collect(res)"
   ]
  },
  {
   "cell_type": "code",
   "execution_count": null,
   "metadata": {
    "collapsed": true
   },
   "outputs": [],
   "source": []
  }
 ],
 "metadata": {
  "kernelspec": {
   "display_name": "R",
   "language": "R",
   "name": "ir"
  },
  "language_info": {
   "codemirror_mode": "r",
   "file_extension": ".r",
   "mimetype": "text/x-r-source",
   "name": "R",
   "pygments_lexer": "r",
   "version": "3.2.1"
  }
 },
 "nbformat": 4,
 "nbformat_minor": 0
}
