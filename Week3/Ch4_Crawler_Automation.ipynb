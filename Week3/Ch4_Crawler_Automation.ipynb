{
 "cells": [
  {
   "cell_type": "markdown",
   "metadata": {},
   "source": [
    "## Ch4 - 爬蟲自動化"
   ]
  },
  {
   "cell_type": "code",
   "execution_count": null,
   "metadata": {
    "collapsed": true
   },
   "outputs": [],
   "source": [
    "library(httr)\n",
    "library(dplyr)\n",
    "library(logging)\n",
    "library(optparse)\n",
    "\n",
    "\n",
    "basicConfig()\n",
    "addHandler(writeToFile, file=opt$path)\n",
    "\n",
    "TOKEN = \"CAACEdEose0cBAHXtl3FUZCC86TRWhaTuOa4BE6dNIOePCPH6PQFcN9jzXiRiUZARjeVvJeqfY5YW9TnTr8Mw2ZBy4Q1TONK57MoCD6tLiXMKzquv89D2wlNeRg8xssBwKWO5OCTEQwJ1bP22Acd9dnZCZBwqzJQ12SBZBonjFTaDbcvVUwIkWvVSCMyZBApT0tD86ebVkqajntHZARkzkB47hcgDYgQ1mk8ZD\"\n",
    "\n",
    "url = paste0(\"https://graph.facebook.com/v2.4/\", opt$id, \"/?access_token=\", TOKEN, \"&debug=all&fields=posts&format=json&method=get&pretty=0&suppress_http_code=1\")\n",
    "\n",
    "res = content(GET(url))\n",
    "tbl = lapply(res$posts$data, data.frame, stringsAsFactors=FALSE)\n",
    "tbl = rbind_all(tbl)\n",
    "print(head(tbl))\n",
    "\n",
    "loginfo(\"finished %s\", opt$id)\n"
   ]
  },
  {
   "cell_type": "code",
   "execution_count": null,
   "metadata": {
    "collapsed": true
   },
   "outputs": [],
   "source": []
  },
  {
   "cell_type": "markdown",
   "metadata": {},
   "source": [
    "### 加入 optparse"
   ]
  },
  {
   "cell_type": "code",
   "execution_count": null,
   "metadata": {
    "collapsed": true
   },
   "outputs": [],
   "source": [
    "library(httr)\n",
    "library(dplyr)\n",
    "library(logging)\n",
    "library(optparse)\n",
    "\n",
    "\n",
    "option_list = list(\n",
    "\n",
    "  make_option(c(\"-i\", \"--id\"), action=\"store\", default=\"me\", type='character',\n",
    "              help=\"please enter the facebook id\"),\n",
    "\n",
    "  make_option(c(\"-p\", \"--path\"), action=\"store\", default=\"/tmp/RCrawler/fb_bot.log\", type='character',\n",
    "              help=\"please enter the log path\")\n",
    ")\n",
    "\n",
    "opt = parse_args(OptionParser(option_list=option_list))\n",
    "\n",
    "basicConfig()\n",
    "addHandler(writeToFile, file=opt$path)\n",
    "\n",
    "TOKEN = \"CAACEdEose0cBAHXtl3FUZCC86TRWhaTuOa4BE6dNIOePCPH6PQFcN9jzXiRiUZARjeVvJeqfY5YW9TnTr8Mw2ZBy4Q1TONK57MoCD6tLiXMKzquv89D2wlNeRg8xssBwKWO5OCTEQwJ1bP22Acd9dnZCZBwqzJQ12SBZBonjFTaDbcvVUwIkWvVSCMyZBApT0tD86ebVkqajntHZARkzkB47hcgDYgQ1mk8ZD\"\n",
    "url = paste0(\"https://graph.facebook.com/v2.4/\", opt$id, \"/?access_token=\", TOKEN, \"&debug=all&fields=posts&format=json&method=get&pretty=0&suppress_http_code=1\")\n",
    "\n",
    "res = content(GET(url))\n",
    "\n",
    "tbl = lapply(res$posts$data, data.frame, stringsAsFactors=FALSE)\n",
    "tbl = rbind_all(tbl)\n",
    "print(head(tbl))\n",
    "\n",
    "loginfo(\"finished %s\", opt$id)\n",
    "\n"
   ]
  },
  {
   "cell_type": "code",
   "execution_count": null,
   "metadata": {
    "collapsed": true
   },
   "outputs": [],
   "source": []
  },
  {
   "cell_type": "markdown",
   "metadata": {},
   "source": [
    "## 再加入 try_catch"
   ]
  },
  {
   "cell_type": "code",
   "execution_count": null,
   "metadata": {
    "collapsed": true
   },
   "outputs": [],
   "source": [
    "library(httr)\n",
    "library(dplyr)\n",
    "library(logging)\n",
    "library(optparse)\n",
    "\n",
    "\n",
    "option_list = list(\n",
    "\n",
    "  make_option(c(\"-i\", \"--id\"), action=\"store\", default=\"me\", type='character',\n",
    "              help=\"please enter the facebook id\"),\n",
    "\n",
    "  make_option(c(\"-p\", \"--path\"), action=\"store\", default=\"/tmp/RCrawler/fb_bot.log\", type='character',\n",
    "              help=\"please enter the log path\")\n",
    ")\n",
    "\n",
    "opt = parse_args(OptionParser(option_list=option_list))\n",
    "\n",
    "basicConfig()\n",
    "addHandler(writeToFile, file=opt$path)\n",
    "\n",
    "TOKEN = \"CAACEdEose0cBAHXtl3FUZCC86TRWhaTuOa4BE6dNIOePCPH6PQFcN9jzXiRiUZARjeVvJeqfY5YW9TnTr8Mw2ZBy4Q1TONK57MoCD6tLiXMKzquv89D2wlNeRg8xssBwKWO5OCTEQwJ1bP22Acd9dnZCZBwqzJQ12SBZBonjFTaDbcvVUwIkWvVSCMyZBApT0tD86ebVkqajntHZARkzkB47hcgDYgQ1mk8ZD\"\n",
    "\n",
    "url = paste0(\"https://graph.facebook.com/v2.4/\", opt$id, \"/?access_token=\", TOKEN, \"&debug=all&fields=posts&format=json&method=get&pretty=0&suppress_http_code=1\")\n",
    "\n",
    "for(i in 1:3){\n",
    "    \n",
    "    tryCatch({\n",
    "        res = content(GET(url))\n",
    "        break\n",
    "\n",
    "    }, error = function(e){\n",
    "        logerror(\"url :%s\", url)\n",
    "        logerror(e)\n",
    "        Sys.sleep(5)\n",
    "    })\n",
    "}\n",
    "\n",
    "tbl = lapply(res$posts$data, data.frame, stringsAsFactors=FALSE)\n",
    "tbl = rbind_all(tbl)\n",
    "print(head(tbl))\n",
    "\n",
    "loginfo(\"finished %s\", opt$id)\n",
    "\n"
   ]
  }
 ],
 "metadata": {
  "kernelspec": {
   "display_name": "R",
   "language": "R",
   "name": "ir"
  },
  "language_info": {
   "codemirror_mode": "r",
   "file_extension": ".r",
   "mimetype": "text/x-r-source",
   "name": "R",
   "pygments_lexer": "r",
   "version": "3.2.1"
  }
 },
 "nbformat": 4,
 "nbformat_minor": 0
}
